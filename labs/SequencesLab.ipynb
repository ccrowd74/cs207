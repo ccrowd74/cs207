{
 "cells": [
  {
   "cell_type": "markdown",
   "metadata": {},
   "source": [
    "### Q1.\n",
    "\n",
    "Add a `__setitem__` to the python linked list implementation"
   ]
  },
  {
   "cell_type": "markdown",
   "metadata": {},
   "source": [
    "### Q2.\n",
    "\n",
    "This question continues your implementation of the time series class you started on Monday. On Monday, you stored your time series as a python list. Today, you will store the data as a numpy 1-D array.\n",
    "\n",
    "At this point you will notice a fundamental mismatch: unlike python `list`s or `array.array`s which are dynamic, `numpy` expects you to provide a length of the sequence. This means that you cant process each element of the time series as it comes in, and must calculate the length of the input sequence to allocate space for the time series in your constructor. (This makes it hard to write a \"direct from file\" without intermdiate storage implementation; but we shall worry about this later).\n",
    "\n",
    "Make sure that any doctests you wrote on Monday to test all kinds of sequences as input still pass. (If you didnt write any, how do you know your Time Series Class from Monday is any good? We'll be testing your code by running tests on them as well!)"
   ]
  },
  {
   "cell_type": "markdown",
   "metadata": {},
   "source": [
    "### Q3.\n",
    "\n",
    "Finish the second part of last friday's C linked list lab: implement the `remove_item` and `get_index` functions. For fun, you might want to implement an `insert_back`, and `set_item` function as well."
   ]
  }
 ],
 "metadata": {
  "kernelspec": {
   "display_name": "Python 3",
   "language": "python",
   "name": "python3"
  },
  "language_info": {
   "codemirror_mode": {
    "name": "ipython",
    "version": 3
   },
   "file_extension": ".py",
   "mimetype": "text/x-python",
   "name": "python",
   "nbconvert_exporter": "python",
   "pygments_lexer": "ipython3",
   "version": "3.5.1"
  }
 },
 "nbformat": 4,
 "nbformat_minor": 0
}
